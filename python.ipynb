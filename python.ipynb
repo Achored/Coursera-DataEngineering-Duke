{
 "cells": [
  {
   "cell_type": "code",
   "execution_count": null,
   "metadata": {},
   "outputs": [],
   "source": [
    "things = [\"things1\", True, 10]\n",
    "things\n"
   ]
  },
  {
   "cell_type": "markdown",
   "metadata": {},
   "source": [
    "Import OS and print the files in the directory"
   ]
  },
  {
   "cell_type": "code",
   "execution_count": null,
   "metadata": {},
   "outputs": [],
   "source": [
    "import os \n",
    "directories = os.listdir('/Users/charlesjb/')\n",
    "directories.append('example') # Adds the value to the bottom of the list.\n",
    "directories.insert(0, 'example0') # Insert to the list\n",
    "print(directories)\n",
    "directories[0] # Prints value in index\n",
    "directories.index('Music') # Returns index \n",
    "directories.index9('Hotdog') # Will return error\n",
    "\n"
   ]
  },
  {
   "cell_type": "markdown",
   "metadata": {},
   "source": [
    "#  Dictonaries"
   ]
  },
  {
   "cell_type": "code",
   "execution_count": null,
   "metadata": {},
   "outputs": [],
   "source": [
    "contacts = {\"name\": \"Alfredo\", \"lastname\": \"Alfreda\"}\n",
    "contacts[\"name\"] # Call the name\n",
    "contacts[\"lastname\"] # Call the lastname value\n",
    "#contacts[\"phone\"] # Returns an error\n",
    "contacts.get(\"phone\", \"Unknown\") # Returns Unknown if phone is not found.\n",
    "\n"
   ]
  },
  {
   "cell_type": "code",
   "execution_count": null,
   "metadata": {},
   "outputs": [],
   "source": [
    "contacts.keys()\n"
   ]
  },
  {
   "cell_type": "code",
   "execution_count": null,
   "metadata": {},
   "outputs": [],
   "source": [
    "contacts.values()\n"
   ]
  },
  {
   "cell_type": "code",
   "execution_count": null,
   "metadata": {},
   "outputs": [],
   "source": [
    "contacts[\"phone\"] = \"123-456-0000\"\n",
    "contacts"
   ]
  },
  {
   "cell_type": "markdown",
   "metadata": {},
   "source": [
    "#  Tuples and Sets"
   ]
  },
  {
   "cell_type": "markdown",
   "metadata": {},
   "source": [
    "\n",
    "Tuples (Read only Sets)"
   ]
  },
  {
   "cell_type": "code",
   "execution_count": null,
   "metadata": {},
   "outputs": [],
   "source": [
    "read_only = (\"item1\", \"item2\")\n",
    "read_only.append(\"item3\")"
   ]
  },
  {
   "cell_type": "markdown",
   "metadata": {},
   "source": [
    "Sets"
   ]
  },
  {
   "cell_type": "code",
   "execution_count": null,
   "metadata": {},
   "outputs": [],
   "source": [
    "unique = {1, 2, 3, 1, 1}\n",
    "print(type(unique))\n",
    "print(unique) # Will not show duplicates\n",
    "unique.add(1) # Will not add 1 since 1 already exists\n",
    "unique"
   ]
  },
  {
   "cell_type": "code",
   "execution_count": null,
   "metadata": {},
   "outputs": [],
   "source": [
    "unique = {1, 2, 3, 1, 1}\n",
    "unique.add(4)  #4 will show since it does not exist in unique. \n",
    "unique"
   ]
  },
  {
   "cell_type": "markdown",
   "metadata": {},
   "source": [
    "## Lists\n",
    "Lists are easy to encounter and easy to abuse. Lists hold individual items, keeping a specific order. To access them, treat the order like an index. The index starts at `0,` and it continues incrementally every time a new item gets added. A loop (sometimes referred to as *\"for loop\"*) is the most common operation you can encounter."
   ]
  },
  {
   "cell_type": "code",
   "execution_count": null,
   "metadata": {},
   "outputs": [],
   "source": [
    "directories = ['Documents', 'Music', 'Desktop', 'Downloads', 'Pictures', 'Movies']\n",
    "for directory in directories:\n",
    "  print(directory)"
   ]
  },
  {
   "cell_type": "code",
   "execution_count": null,
   "metadata": {},
   "outputs": [],
   "source": [
    "import os\n",
    "for item in os.listdir('sample_data'):\n",
    "  if os.path.isdir(item):\n",
    "    print(\"This is a directory {0}\".format(item))\n",
    "  else:\n",
    "    print(\"This is a file: {0}\".format(item))"
   ]
  },
  {
   "cell_type": "code",
   "execution_count": null,
   "metadata": {},
   "outputs": [],
   "source": [
    "# Looping is easy, but what about state? \n",
    "# here state is captured in a new variable called `important_directories`\n",
    "important_directories = []\n",
    "for item in os.listdir('.'):\n",
    "  if os.path.isdir(item):\n",
    "    important_directories.append(item)\n",
    "print(important_directories)"
   ]
  },
  {
   "cell_type": "code",
   "execution_count": null,
   "metadata": {},
   "outputs": [],
   "source": [
    "os.listdir('.')\n",
    "#Fucnction to list all files  and directories. "
   ]
  },
  {
   "cell_type": "code",
   "execution_count": null,
   "metadata": {},
   "outputs": [],
   "source": [
    "#First, iterate through the directoy and see if an item starts with a dot. If it is, proceeds to the next step.\n",
    "# Second, checks if the item is a directory. If it is, append to list. \n",
    "important_directories = []\n",
    "for item in os.listdir('.'):\n",
    "  if item.startswith('.'):\n",
    "    continue # flow control!\n",
    "  if os.path.isdir(item):\n",
    "    important_directories.append(item)\n",
    "print(important_directories)"
   ]
  },
  {
   "cell_type": "code",
   "execution_count": null,
   "metadata": {},
   "outputs": [],
   "source": [
    "#Declare a new list. \n",
    "items = ['first', 'second', 'third', 'foo']\n",
    "#Call the last value in the list.\n",
    "items[-1]\n",
    "#Declare a new variable. \n",
    "url = \"https://colab.research.com/drive/asdfjhasdf/alfredo/oreilly\"\n",
    "#Split the  url variable with \"/\" as delimiter.\n",
    "parts = url.split('/')\n",
    "#Print the split url or the variable \"parts\".\n",
    "print(parts)\n",
    "# Everything except the first three items\n",
    "print(parts[3:])\n",
    "#Assign protocol, _, and fqdn to the 3 values from parts[:3]\n",
    "protocol, _, fqdn = parts[:3]\n",
    "print(\"protocol is: %s\" % protocol)\n",
    "print(fqdn)\n",
    "#Declare a new variable that contains the last value of parts variable.\n",
    "company = parts[-1]\n",
    "print(company)\n",
    "\n",
    "print(\"The first item is: {0}\".format(items[0]))\n",
    "\n",
    "items[1]\n",
    "\n",
    "# you can also 'ask' for a given item:\n",
    "items.index('foo')\n",
    "# watchout for `ValueError` though!. This will return ValueError as 'fifth' does not exist in items. \n",
    "items.index('fifth')"
   ]
  },
  {
   "cell_type": "markdown",
   "metadata": {},
   "source": [
    "## Tuples\n",
    "Should be treated as \"read only\" lists, the differences are subtle!"
   ]
  },
  {
   "cell_type": "code",
   "execution_count": null,
   "metadata": {},
   "outputs": [],
   "source": [
    "ro_items = ('first', 'second', 'third')\n",
    "# % is used to string formatting. %s is used to declare a placeholder, which is replaced after the % operator.\n",
    "print(\"first item in the tuple is: %s\" % ro_items.index('first'))\n",
    "print(ro_items[-1])\n",
    "for item in ro_items:\n",
    "    print(item)\n"
   ]
  },
  {
   "cell_type": "code",
   "execution_count": null,
   "metadata": {},
   "outputs": [],
   "source": [
    "# expect an error here, just like a list! This is due to index 9 not existing in the tuple. \n",
    "ro_items[9]# same with indexes\n",
    "ro_items.index('fifth')"
   ]
  },
  {
   "cell_type": "code",
   "execution_count": null,
   "metadata": {},
   "outputs": [],
   "source": [
    "# find out what methods are available in a tuple type.\n",
    "for method in dir(tuple()):\n",
    "# Checks if method starts with \"__\". This is reserved for special attributes in Python. \n",
    "  if method.startswith('__'):\n",
    "# If TRUE, check again.     \n",
    "    continue\n",
    "  print(method)\n"
   ]
  },
  {
   "cell_type": "code",
   "execution_count": null,
   "metadata": {},
   "outputs": [],
   "source": [
    "# tuples are inmmutable\n",
    "ro_items.append('a')"
   ]
  },
  {
   "cell_type": "markdown",
   "metadata": {},
   "source": [
    "## List Comprehensions\n",
    "So easy to abuse!"
   ]
  },
  {
   "cell_type": "code",
   "execution_count": null,
   "metadata": {},
   "outputs": [],
   "source": [
    "items = ['a', '1', '23', 'b', '4', 'c', 'd']\n",
    "numeric = []\n",
    "for item in items:\n",
    "  if item.isnumeric():\n",
    "    numeric.append(item)\n",
    "print(numeric)"
   ]
  },
  {
   "cell_type": "code",
   "execution_count": null,
   "metadata": {},
   "outputs": [],
   "source": [
    "# notice the `if` condition at the end, is this more readable? or less?\n",
    "inlined_numeric = [item for item in items if item.isnumeric()]\n",
    "inlined_numeric"
   ]
  },
  {
   "cell_type": "code",
   "execution_count": null,
   "metadata": {},
   "outputs": [],
   "source": [
    "# doubly nested items are usually targetted for list comprehensions\n",
    "items = ['a', '1', '23', 'b', '4', 'c', 'd']\n",
    "nested_items = [items, items]\n",
    "nested_items"
   ]
  },
  {
   "cell_type": "code",
   "execution_count": null,
   "metadata": {},
   "outputs": [],
   "source": [
    "numeric = []\n",
    "# Parent is the list per nested list . \n",
    "for parent in nested_items:\n",
    "# For loop below checks the items in parent. \n",
    "    for item in parent:\n",
    "      if item.isnumeric():\n",
    "        numeric.append(item)\n",
    "numeric"
   ]
  },
  {
   "cell_type": "code",
   "execution_count": null,
   "metadata": {},
   "outputs": [],
   "source": [
    "# and now with list comprehensions\n",
    "numeric = [item for item in parent for parent in nested_items if item.isnumeric()]\n",
    "numeric"
   ]
  },
  {
   "cell_type": "code",
   "execution_count": null,
   "metadata": {},
   "outputs": [],
   "source": [
    "# this can improve readability\n",
    "numeric = [\n",
    "    item for item in parent\n",
    "        for parent in nested_items\n",
    "            if item.isnumeric()\n",
    "]\n",
    "numeric"
   ]
  },
  {
   "cell_type": "markdown",
   "metadata": {},
   "source": [
    "## The awesome dictionary\n",
    "One of my favorite data structures in Python, learning it can yield inmense benefits."
   ]
  },
  {
   "cell_type": "code",
   "execution_count": null,
   "metadata": {},
   "outputs": [],
   "source": [
    "# dictionaries are mappings, usually referred to as key/value mappings\n",
    "contacts = {\n",
    "    'alfredo': '+3 678-677-0000',\n",
    "    'noah': '+3 707-777-9191'\n",
    "}\n",
    "contacts"
   ]
  },
  {
   "cell_type": "code",
   "execution_count": null,
   "metadata": {},
   "outputs": [],
   "source": [
    "contacts['noah']"
   ]
  },
  {
   "cell_type": "code",
   "execution_count": null,
   "metadata": {},
   "outputs": [],
   "source": [
    "# you can get keys as list-like objects\n",
    "contacts.keys()"
   ]
  },
  {
   "cell_type": "code",
   "execution_count": null,
   "metadata": {},
   "outputs": [],
   "source": [
    "# or you can get the values as well\n",
    "contacts.values()"
   ]
  },
  {
   "cell_type": "code",
   "execution_count": null,
   "metadata": {},
   "outputs": [],
   "source": [
    "# looping over dictionaries default to `.keys()` and you can loop over both keys and values\n",
    "for key in contacts:\n",
    "  print(key)\n",
    "# {0} and {1} are placeholders, and name, phone are the values of the placeholders \n",
    "for name, phone in contacts.items():\n",
    "  print(\"Key: {0}, Value: {1}\".format(name, phone))\n"
   ]
  },
  {
   "cell_type": "code",
   "execution_count": null,
   "metadata": {},
   "outputs": [],
   "source": [
    "# you should treat dictionaries like a small database, with cheap (and fast!) access\n",
    "contacts['alfredo']\n",
    "contacts['John']"
   ]
  },
  {
   "cell_type": "markdown",
   "metadata": {},
   "source": [
    "# Python to JSON"
   ]
  },
  {
   "cell_type": "code",
   "execution_count": null,
   "metadata": {},
   "outputs": [],
   "source": [
    "# super nice way to \"fallback\" when things do not exist\n",
    "# Tries to find 'John' in contacts. If not found, show Peter instead. \n",
    "print(contacts.get('John', \"Peter\"))\n",
    "\n",
    "# Same process. If John is not found, it executes the syntax in except KeyError. \n",
    "try:\n",
    "  contacts['John']\n",
    "except KeyError:\n",
    "  print(\"Peter\")"
   ]
  },
  {
   "cell_type": "code",
   "execution_count": null,
   "metadata": {},
   "outputs": [],
   "source": [
    "import json\n",
    "\n",
    "# Dictionary to JSON string\n",
    "data = {'name':'John', 'age':30}\n",
    "#Dump data variable to json_data\n",
    "json_data = json.dumps(data)\n",
    "\n",
    "# JSON string to Python Dictionary\n",
    "json_str = '{\"name\":\"John\", \"age\":30}'\n",
    "#Load json str from data. \n",
    "data = json.loads(json_str)\n",
    "\n",
    "print(data)"
   ]
  },
  {
   "cell_type": "code",
   "execution_count": null,
   "metadata": {},
   "outputs": [],
   "source": [
    "# Python list to JSON array\n",
    "data = [1, 2, 3] \n",
    "json_data = json.dumps(data)\n",
    "\n",
    "# JSON array to Python list\n",
    "json_str = '[1, 2, 3]'\n",
    "data = json.loads(json_str)\n",
    "\n",
    "print(data) # python list\n",
    "print(json_data) # JSON array"
   ]
  },
  {
   "cell_type": "code",
   "execution_count": null,
   "metadata": {},
   "outputs": [],
   "source": [
    "# Write Python dict to JSON file\n",
    "data = {'name':'John'}\n",
    "with open('data.json','w') as f:\n",
    "  json.dump(data, f)\n",
    "  \n",
    "# Read JSON file to Python dict  \n",
    "with open('data.json') as f:\n",
    "  data = json.load(f)\n",
    "\n",
    "# verify files exist\n",
    "import os\n",
    "file_exists = os.path.exists('data.json')\n",
    "print(\"Verifying if data.json file exists:\", file_exists)"
   ]
  },
  {
   "cell_type": "markdown",
   "metadata": {},
   "source": [
    "# Reading files"
   ]
  },
  {
   "cell_type": "code",
   "execution_count": null,
   "metadata": {},
   "outputs": [],
   "source": [
    "# Open/load file.\n",
    "jupy_file = open(\"lists.ipynb\")\n",
    "\n",
    "#Read file\n",
    "jupy_contents = jupy_file.read()\n",
    "\n",
    "#Read file and show through list.\n",
    "jupy_contents1 = jupy_file.readlines()\n",
    "\n",
    "print(jupy_contents)\n",
    "print(jupy_contents1)\n",
    "\n",
    "#Close file to avoid using. \n",
    "jupy_file.close()\n",
    "\n",
    " "
   ]
  },
  {
   "cell_type": "code",
   "execution_count": null,
   "metadata": {},
   "outputs": [],
   "source": [
    "# Automatically close the file after running. \n",
    "with open (\"lists.ipynb\") as jupy_contents:\n",
    "    jupy_contents = jupy_contents.readlines()\n",
    "    print(jupy_contents)"
   ]
  },
  {
   "cell_type": "markdown",
   "metadata": {},
   "source": [
    "### Sample reading files with panda"
   ]
  },
  {
   "cell_type": "code",
   "execution_count": null,
   "metadata": {},
   "outputs": [],
   "source": [
    "import pandas as pd \n",
    "import numpy as py\n",
    "df = pd.read_csv(\"sample.csv\")\n",
    "print(df.head())"
   ]
  },
  {
   "cell_type": "markdown",
   "metadata": {},
   "source": [
    "# Working with JSON on Python"
   ]
  },
  {
   "cell_type": "code",
   "execution_count": null,
   "metadata": {},
   "outputs": [],
   "source": [
    "import json\n",
    "data = {\"name\": \"Alfredo\", \"data\": [], \"valid\": True}\n",
    "    \n",
    "#Dump to json string. Convert Python list to valid JSON. \n",
    "json.dumps(data)"
   ]
  },
  {
   "cell_type": "code",
   "execution_count": null,
   "metadata": {},
   "outputs": [],
   "source": [
    "# JSON string to python list. \n",
    "json_output = '{\"name\": \"Alfredo\", \"data\": 1, \"valid\": true}'\n",
    "# Load string, read the string into dict. \n",
    "loaded_json = json.loads(json_output)\n",
    "type(loaded_json)\n",
    "loaded_json['valid']\n",
    "\n",
    "#Note: json.loads formats JSON-formatted string into a Python object, \n",
    "# while json.load loads from a file-like object into a python object. "
   ]
  },
  {
   "cell_type": "markdown",
   "metadata": {},
   "source": [
    "### Load JSON with Python"
   ]
  },
  {
   "cell_type": "code",
   "execution_count": null,
   "metadata": {},
   "outputs": [],
   "source": [
    "with open(\"sample.json\") as f:\n",
    "    loaded_json = json.load(f)\n",
    "\n",
    "loaded_json\n",
    "\n",
    "#Note: json.loads formats JSON-formatted string into a Python object, \n",
    "# while json.load loads from a file-like object into a python object. "
   ]
  },
  {
   "cell_type": "markdown",
   "metadata": {},
   "source": [
    "### Saving Python to File "
   ]
  },
  {
   "cell_type": "code",
   "execution_count": null,
   "metadata": {},
   "outputs": [],
   "source": [
    "import json \n",
    "# Create an empty dictionary\n",
    "data = {\"name\": \"Alfredo\", \"lastname\": \"Deza\", \"valid\":True}"
   ]
  },
  {
   "cell_type": "code",
   "execution_count": null,
   "metadata": {},
   "outputs": [],
   "source": [
    "# Open a file using \"W\" for writing. \n",
    "with open(\"sample.json\", \"w\") as f:\n",
    "#Dump data dictionary using json.dump\n",
    "    json.dump(data, f)\n"
   ]
  },
  {
   "cell_type": "markdown",
   "metadata": {},
   "source": [
    "# Lab \n",
    "## Loading and Saving JSON Lab"
   ]
  },
  {
   "cell_type": "code",
   "execution_count": null,
   "metadata": {},
   "outputs": [],
   "source": [
    "# the JSON module can take certain Python data structures like dictionaries and convert them to JSON\n",
    "import json\n"
   ]
  },
  {
   "cell_type": "markdown",
   "metadata": {},
   "source": [
    "### From Python, convert a dictionary into a JSON string\n"
   ]
  },
  {
   "cell_type": "code",
   "execution_count": null,
   "metadata": {},
   "outputs": [],
   "source": [
    "data = {\"grape\": \"Cabernet Franc\", \"species\": \"Vitis vinifera\", \"origin\": \"Bordeaux, France\", \"valid\":True}"
   ]
  },
  {
   "cell_type": "code",
   "execution_count": null,
   "metadata": {},
   "outputs": [],
   "source": [
    "# Convert Python data to JSON. The `.dumps()` method takes a data structure as input and provides a JSON string as output\n",
    "# mnemonic: dumps -> DUMP to String\n",
    "json.dumps(data)"
   ]
  },
  {
   "cell_type": "code",
   "execution_count": null,
   "metadata": {},
   "outputs": [],
   "source": [
    "# Convert a JSON string into a Python data structure\n",
    "# first, define the json data with the string data\n",
    "json_data = json.dumps(data)\n",
    "json_data"
   ]
  },
  {
   "cell_type": "code",
   "execution_count": null,
   "metadata": {},
   "outputs": [],
   "source": [
    "# Now load it into Python\n",
    "# mnemonic: loads -> LOAD from String\n",
    "json.loads(json_data)"
   ]
  },
  {
   "cell_type": "code",
   "execution_count": null,
   "metadata": {},
   "outputs": [],
   "source": [
    "# Python dictionaries are not the only data structure allowed. You may use lists as well.\n",
    "collection = [data, data]\n",
    "print(collection)\n",
    "# may look similar in the output, but the difference is that JSON is now a string\n",
    "json.dumps(collection)\n",
    "# Valid:true shows instead of Valid:True since JSON is now a string. "
   ]
  },
  {
   "cell_type": "markdown",
   "metadata": {},
   "source": [
    "### JSON Formatting\n",
    "\n",
    "The `json` module in Python allows more than just loading and parsing JSON. It can be used to format it nicely. Formatting is crucial when dealing with nested data (a dictionary within a dictionary for example). \n",
    "\n",
    "It is common for HTTP APIs and JSON files to present JSON as a single line. In this section, you will use formatting options in the JSON module to improve the readability of nested information in JSON.\n"
   ]
  },
  {
   "cell_type": "code",
   "execution_count": null,
   "metadata": {},
   "outputs": [],
   "source": [
    "# define a nested data structure in a single line\n",
    "grape_data = {\"name\": \"Cabernet France\", \"regions\": [{\"country\": \"France\", \"sub-regions\": [\"Bordeaux\", \"Loire Valley\"]},{\"country\": \"Italy\", \"sub-regions\": [\"Apulia\", \"Tuscany\"]}, {\"country\": \"Argentina\", \"sub-regions\": [\"Mendoza\", \"Lujan de Cuyo\", \"Salta\"]}]} \n",
    "# Serialize the Python dictionary to a JSON string, but using extra formatting options, like sorted keys\n",
    "# and using 4 spaces for indentation\n",
    "data_as_json = json.dumps(grape_data, sort_keys=True, indent=4)\n",
    "print(data_as_json)"
   ]
  },
  {
   "cell_type": "code",
   "execution_count": null,
   "metadata": {},
   "outputs": [],
   "source": [
    "# Try other variations like indenting 2 spaces and not sorting keys:\n",
    "data_as_json = json.dumps(grape_data, sort_keys=False, indent=2)\n",
    "print(data_as_json)"
   ]
  },
  {
   "cell_type": "markdown",
   "metadata": {},
   "source": [
    "### Serialize JSON from a file\n",
    "Python can read JSON files and load them as Python data structures, which can also be saved back to the file system as a valid JSON file. In the next few cells, read a JSON file from the file system, and then use the `json` module to parse the JSON and load it into Python.\n",
    "\n",
    "The process of reading a foreign format like JSON and loading it into Python is called serializing it."
   ]
  },
  {
   "cell_type": "code",
   "execution_count": null,
   "metadata": {},
   "outputs": [],
   "source": [
    "# There are JSON files in the `sample_data/` directory. When working with paths, always ensure these paths are reachable and correct\n",
    "import os\n",
    "os.path.exists('sample_data/wine-ratings.json')"
   ]
  },
  {
   "cell_type": "code",
   "execution_count": null,
   "metadata": {},
   "outputs": [],
   "source": [
    "# read the JSON file and then parse it using the `.load()` method\n",
    "# note the subtle difference, this is the `.load()` method (no 's'), not `.loads()`\n",
    "# .load for file, .loads for string to JSON. \n",
    "with open('sample_data/wine-ratings.json') as f:\n",
    "    loaded_json = json.load(f)\n",
    "print(loaded_json.keys())\n",
    "print(f\"Number of items: {len(loaded_json['name'])}\")\n",
    "\n",
    "#Output:\n",
    "# dict_keys(['name', 'grape', 'region', 'variety', 'rating', 'notes'])\n",
    "# Number of items: 780"
   ]
  },
  {
   "cell_type": "markdown",
   "metadata": {},
   "source": [
    "### Serialize from Python to a JSON file\n",
    "\n",
    "Now that you've loaded JSON from a file into Python, do some data sampling, extract some interesting fields and then save the newly manipulated data to a file on disk as JSON."
   ]
  },
  {
   "cell_type": "code",
   "execution_count": null,
   "metadata": {},
   "outputs": [],
   "source": [
    "# sample some items from the json file and then save it as a new file\n",
    "names = loaded_json['name']\n",
    "len(names)\n"
   ]
  },
  {
   "cell_type": "code",
   "execution_count": null,
   "metadata": {},
   "outputs": [],
   "source": [
    "# these names are using an index, like {\"0\": \"Some Name and Year\"}. Update the data to use a list of only the names\n",
    "names_only = list(names.values())\n",
    "names_only"
   ]
  },
  {
   "cell_type": "code",
   "execution_count": null,
   "metadata": {},
   "outputs": [],
   "source": [
    "# these names are using an index, like {\"0\": \"Some Name and Year\"}. Update the data to use a list of only the names\n",
    "names_only = list(names.values())\n",
    "names_only"
   ]
  },
  {
   "cell_type": "code",
   "execution_count": null,
   "metadata": {},
   "outputs": [],
   "source": [
    "# now use the `.dump()` JSON method (note no 's'!) to save it to a new JSON file\n",
    "with open('sample_data/wine_names.json', 'w') as f:\n",
    "    json.dump(names_only, f)"
   ]
  },
  {
   "cell_type": "code",
   "execution_count": null,
   "metadata": {},
   "outputs": [],
   "source": [
    "address = {\"street\": \"main\", \"number\": 1044, \"province\": \"Guthenfoord\"}\n",
    "\n",
    "address[\"province\"]"
   ]
  },
  {
   "cell_type": "markdown",
   "metadata": {},
   "source": [
    "# Python Scripting Basics"
   ]
  },
  {
   "cell_type": "markdown",
   "metadata": {},
   "source": [
    "### Traverse list of files"
   ]
  },
  {
   "cell_type": "code",
   "execution_count": null,
   "metadata": {},
   "outputs": [],
   "source": [
    "files = ['file1.txt', 'file2.txt']\n",
    "\n",
    "for file in files:\n",
    "    print(file)"
   ]
  },
  {
   "cell_type": "markdown",
   "metadata": {},
   "source": [
    "### Join path and file string"
   ]
  },
  {
   "cell_type": "code",
   "execution_count": null,
   "metadata": {},
   "outputs": [],
   "source": [
    "import os\n",
    "\n",
    "path = '/Users/Achored'\n",
    "file = 'data.csv'\n",
    "\n",
    "full_path = os.path.join(path,file)\n",
    "full_path"
   ]
  },
  {
   "cell_type": "markdown",
   "metadata": {},
   "source": [
    "## Traversing the File System with a Script in Python"
   ]
  },
  {
   "cell_type": "code",
   "execution_count": null,
   "metadata": {},
   "outputs": [],
   "source": [
    "# Loop through the provided path the list the Root, directories, and files. \n",
    "import os\n",
    "\n",
    "def main():\n",
    "    for root, directories, files in os.walk(\"/Users/charlesjb/Coursera-DataEngineering-Duke/\"):\n",
    "        print(f\"Root: {root}\")\n",
    "        print(f\"Directories: {directories}\")\n",
    "        print(\"Files: {files}\")\n",
    "\n",
    "if __name__ == '__main__':\n",
    "    main()"
   ]
  },
  {
   "cell_type": "code",
   "execution_count": 2,
   "metadata": {},
   "outputs": [
    {
     "name": "stdout",
     "output_type": "stream",
     "text": [
      "File path: /Users/charlesjb/Coursera-DataEngineering-Duke/get-pip.py\n",
      "File path: /Users/charlesjb/Coursera-DataEngineering-Duke/lists.ipynb\n",
      "File path: /Users/charlesjb/Coursera-DataEngineering-Duke/data.json\n",
      "File path: /Users/charlesjb/Coursera-DataEngineering-Duke/sample.json\n",
      "File path: /Users/charlesjb/Coursera-DataEngineering-Duke/python.ipynb\n",
      "File path: /Users/charlesjb/Coursera-DataEngineering-Duke/.git/config\n",
      "File path: /Users/charlesjb/Coursera-DataEngineering-Duke/.git/HEAD\n",
      "File path: /Users/charlesjb/Coursera-DataEngineering-Duke/.git/description\n",
      "File path: /Users/charlesjb/Coursera-DataEngineering-Duke/.git/index\n",
      "File path: /Users/charlesjb/Coursera-DataEngineering-Duke/.git/packed-refs\n",
      "File path: /Users/charlesjb/Coursera-DataEngineering-Duke/.git/COMMIT_EDITMSG\n",
      "File path: /Users/charlesjb/Coursera-DataEngineering-Duke/.git/objects/35/0264c619dd567fcc20e78a70c6e7e8b63ba18b\n",
      "File path: /Users/charlesjb/Coursera-DataEngineering-Duke/.git/objects/58/8e56eac746126658a5422336c7f3b9bfb61674\n",
      "File path: /Users/charlesjb/Coursera-DataEngineering-Duke/.git/objects/4e/1a9c76f031389f41bcf82ef7edf930c66f926c\n",
      "File path: /Users/charlesjb/Coursera-DataEngineering-Duke/.git/objects/pack/pack-2ce62977240ac5d173fbe9470e670c7b42d89d31.idx\n",
      "File path: /Users/charlesjb/Coursera-DataEngineering-Duke/.git/objects/pack/pack-2ce62977240ac5d173fbe9470e670c7b42d89d31.rev\n",
      "File path: /Users/charlesjb/Coursera-DataEngineering-Duke/.git/objects/pack/pack-2ce62977240ac5d173fbe9470e670c7b42d89d31.pack\n",
      "File path: /Users/charlesjb/Coursera-DataEngineering-Duke/.git/objects/16/f7d73c40d3fbfd7eda4e50ba28db38f56efdcb\n",
      "File path: /Users/charlesjb/Coursera-DataEngineering-Duke/.git/objects/7e/7ac6674b1357af97e20c081bba421192c2a17e\n",
      "File path: /Users/charlesjb/Coursera-DataEngineering-Duke/.git/objects/19/acd89318ae7a2f96854cd67510d1d7992bd7cf\n",
      "File path: /Users/charlesjb/Coursera-DataEngineering-Duke/.git/objects/07/1de9f4b7064a0b759db5df6a31e0ac93345360\n",
      "File path: /Users/charlesjb/Coursera-DataEngineering-Duke/.git/objects/38/9e12220bc06e83e01e999d07b2b7bf16addcc2\n",
      "File path: /Users/charlesjb/Coursera-DataEngineering-Duke/.git/objects/15/42e4fe4a3a74aea723c2179e1a2b18cb6d4852\n",
      "File path: /Users/charlesjb/Coursera-DataEngineering-Duke/.git/info/exclude\n",
      "File path: /Users/charlesjb/Coursera-DataEngineering-Duke/.git/logs/HEAD\n",
      "File path: /Users/charlesjb/Coursera-DataEngineering-Duke/.git/logs/refs/heads/main\n",
      "File path: /Users/charlesjb/Coursera-DataEngineering-Duke/.git/logs/refs/remotes/origin/HEAD\n",
      "File path: /Users/charlesjb/Coursera-DataEngineering-Duke/.git/logs/refs/remotes/origin/main\n",
      "File path: /Users/charlesjb/Coursera-DataEngineering-Duke/.git/hooks/commit-msg.sample\n",
      "File path: /Users/charlesjb/Coursera-DataEngineering-Duke/.git/hooks/pre-rebase.sample\n",
      "File path: /Users/charlesjb/Coursera-DataEngineering-Duke/.git/hooks/sendemail-validate.sample\n",
      "File path: /Users/charlesjb/Coursera-DataEngineering-Duke/.git/hooks/pre-commit.sample\n",
      "File path: /Users/charlesjb/Coursera-DataEngineering-Duke/.git/hooks/applypatch-msg.sample\n",
      "File path: /Users/charlesjb/Coursera-DataEngineering-Duke/.git/hooks/fsmonitor-watchman.sample\n",
      "File path: /Users/charlesjb/Coursera-DataEngineering-Duke/.git/hooks/pre-receive.sample\n",
      "File path: /Users/charlesjb/Coursera-DataEngineering-Duke/.git/hooks/prepare-commit-msg.sample\n",
      "File path: /Users/charlesjb/Coursera-DataEngineering-Duke/.git/hooks/post-update.sample\n",
      "File path: /Users/charlesjb/Coursera-DataEngineering-Duke/.git/hooks/pre-merge-commit.sample\n",
      "File path: /Users/charlesjb/Coursera-DataEngineering-Duke/.git/hooks/pre-applypatch.sample\n",
      "File path: /Users/charlesjb/Coursera-DataEngineering-Duke/.git/hooks/pre-push.sample\n",
      "File path: /Users/charlesjb/Coursera-DataEngineering-Duke/.git/hooks/update.sample\n",
      "File path: /Users/charlesjb/Coursera-DataEngineering-Duke/.git/hooks/push-to-checkout.sample\n",
      "File path: /Users/charlesjb/Coursera-DataEngineering-Duke/.git/refs/heads/main\n",
      "File path: /Users/charlesjb/Coursera-DataEngineering-Duke/.git/refs/remotes/origin/HEAD\n",
      "File path: /Users/charlesjb/Coursera-DataEngineering-Duke/.git/refs/remotes/origin/main\n",
      "File path: /Users/charlesjb/Coursera-DataEngineering-Duke/Exercise - JSON Mapping Data/answer.ipynb\n",
      "File path: /Users/charlesjb/Coursera-DataEngineering-Duke/Exercise - JSON Mapping Data/exercise.ipynb\n",
      "File path: /Users/charlesjb/Coursera-DataEngineering-Duke/Exercise - JSON Mapping Data/README.md\n",
      "File path: /Users/charlesjb/Coursera-DataEngineering-Duke/Exercise - JSON Mapping Data/looping-data-structures.ipynb\n",
      "File path: /Users/charlesjb/Coursera-DataEngineering-Duke/Exercise - JSON Mapping Data/serializing-json.ipynb\n",
      "File path: /Users/charlesjb/Coursera-DataEngineering-Duke/Exercise - JSON Mapping Data/sample_data/wine-ratings-small.csv\n",
      "File path: /Users/charlesjb/Coursera-DataEngineering-Duke/Exercise - JSON Mapping Data/sample_data/test.json\n",
      "File path: /Users/charlesjb/Coursera-DataEngineering-Duke/Exercise - JSON Mapping Data/sample_data/generate_sql.py\n",
      "File path: /Users/charlesjb/Coursera-DataEngineering-Duke/Exercise - JSON Mapping Data/sample_data/populate.sql\n",
      "File path: /Users/charlesjb/Coursera-DataEngineering-Duke/Exercise - JSON Mapping Data/sample_data/wine-ratings.csv\n",
      "File path: /Users/charlesjb/Coursera-DataEngineering-Duke/Exercise - JSON Mapping Data/sample_data/wine-ratings.json\n"
     ]
    }
   ],
   "source": [
    "# Loop through the provided path and list the absolute paths of the files by concatenating the path and adding the file name. \n",
    "import os\n",
    "\n",
    "def main():\n",
    "    for root, directories, files in os.walk(\"/Users/charlesjb/Coursera-DataEngineering-Duke/\"):\n",
    "        for _file in files:\n",
    "            abs_path = os.path.join(root, _file)\n",
    "            print(f\"File path: {abs_path}\")\n",
    "\n",
    "if __name__ == '__main__':\n",
    "    main()\n"
   ]
  },
  {
   "cell_type": "code",
   "execution_count": 4,
   "metadata": {},
   "outputs": [
    {
     "name": "stdout",
     "output_type": "stream",
     "text": [
      "Dir path: /Users/charlesjb/Coursera-DataEngineering-Duke/.git\n",
      "Dir path: /Users/charlesjb/Coursera-DataEngineering-Duke/Exercise - JSON Mapping Data\n",
      "Dir path: /Users/charlesjb/Coursera-DataEngineering-Duke/.git/objects\n",
      "Dir path: /Users/charlesjb/Coursera-DataEngineering-Duke/.git/info\n",
      "Dir path: /Users/charlesjb/Coursera-DataEngineering-Duke/.git/logs\n",
      "Dir path: /Users/charlesjb/Coursera-DataEngineering-Duke/.git/hooks\n",
      "Dir path: /Users/charlesjb/Coursera-DataEngineering-Duke/.git/refs\n",
      "Dir path: /Users/charlesjb/Coursera-DataEngineering-Duke/.git/branches\n",
      "Dir path: /Users/charlesjb/Coursera-DataEngineering-Duke/.git/objects/35\n",
      "Dir path: /Users/charlesjb/Coursera-DataEngineering-Duke/.git/objects/58\n",
      "Dir path: /Users/charlesjb/Coursera-DataEngineering-Duke/.git/objects/4e\n",
      "Dir path: /Users/charlesjb/Coursera-DataEngineering-Duke/.git/objects/pack\n",
      "Dir path: /Users/charlesjb/Coursera-DataEngineering-Duke/.git/objects/16\n",
      "Dir path: /Users/charlesjb/Coursera-DataEngineering-Duke/.git/objects/7e\n",
      "Dir path: /Users/charlesjb/Coursera-DataEngineering-Duke/.git/objects/19\n",
      "Dir path: /Users/charlesjb/Coursera-DataEngineering-Duke/.git/objects/07\n",
      "Dir path: /Users/charlesjb/Coursera-DataEngineering-Duke/.git/objects/38\n",
      "Dir path: /Users/charlesjb/Coursera-DataEngineering-Duke/.git/objects/info\n",
      "Dir path: /Users/charlesjb/Coursera-DataEngineering-Duke/.git/objects/15\n",
      "Dir path: /Users/charlesjb/Coursera-DataEngineering-Duke/.git/logs/refs\n",
      "Dir path: /Users/charlesjb/Coursera-DataEngineering-Duke/.git/logs/refs/heads\n",
      "Dir path: /Users/charlesjb/Coursera-DataEngineering-Duke/.git/logs/refs/remotes\n",
      "Dir path: /Users/charlesjb/Coursera-DataEngineering-Duke/.git/logs/refs/remotes/origin\n",
      "Dir path: /Users/charlesjb/Coursera-DataEngineering-Duke/.git/refs/heads\n",
      "Dir path: /Users/charlesjb/Coursera-DataEngineering-Duke/.git/refs/tags\n",
      "Dir path: /Users/charlesjb/Coursera-DataEngineering-Duke/.git/refs/remotes\n",
      "Dir path: /Users/charlesjb/Coursera-DataEngineering-Duke/.git/refs/remotes/origin\n",
      "Dir path: /Users/charlesjb/Coursera-DataEngineering-Duke/Exercise - JSON Mapping Data/sample_data\n"
     ]
    }
   ],
   "source": [
    "#Same as avoce, but shows the path of directories instead. \n",
    "import os\n",
    "\n",
    "def main():\n",
    "    for root, directories, files in os.walk(\"/Users/charlesjb/Coursera-DataEngineering-Duke/\"):\n",
    "        for directory in directories:\n",
    "            abs_path = os.path.join(root, directory)\n",
    "            print(f\"Dir path: {abs_path}\")\n",
    "\n",
    "if __name__ == '__main__':\n",
    "    main()\n"
   ]
  },
  {
   "cell_type": "code",
   "execution_count": 13,
   "metadata": {},
   "outputs": [
    {
     "name": "stdout",
     "output_type": "stream",
     "text": [
      "/Users/charlesjb/Coursera-DataEngineering-Duke/.git\n",
      "/Users/charlesjb/Coursera-DataEngineering-Duke/Exercise - JSON Mapping Data\n",
      "/Users/charlesjb/Coursera-DataEngineering-Duke/get-pip.py\n",
      "/Users/charlesjb/Coursera-DataEngineering-Duke/lists.ipynb\n",
      "/Users/charlesjb/Coursera-DataEngineering-Duke/data.json\n",
      "/Users/charlesjb/Coursera-DataEngineering-Duke/sample.json\n",
      "/Users/charlesjb/Coursera-DataEngineering-Duke/python.ipynb\n",
      "/Users/charlesjb/Coursera-DataEngineering-Duke/.git/objects\n",
      "/Users/charlesjb/Coursera-DataEngineering-Duke/.git/info\n",
      "/Users/charlesjb/Coursera-DataEngineering-Duke/.git/logs\n",
      "/Users/charlesjb/Coursera-DataEngineering-Duke/.git/hooks\n",
      "/Users/charlesjb/Coursera-DataEngineering-Duke/.git/refs\n",
      "/Users/charlesjb/Coursera-DataEngineering-Duke/.git/branches\n",
      "/Users/charlesjb/Coursera-DataEngineering-Duke/.git/config\n",
      "/Users/charlesjb/Coursera-DataEngineering-Duke/.git/HEAD\n",
      "/Users/charlesjb/Coursera-DataEngineering-Duke/.git/description\n",
      "/Users/charlesjb/Coursera-DataEngineering-Duke/.git/index\n",
      "/Users/charlesjb/Coursera-DataEngineering-Duke/.git/packed-refs\n",
      "/Users/charlesjb/Coursera-DataEngineering-Duke/.git/COMMIT_EDITMSG\n",
      "/Users/charlesjb/Coursera-DataEngineering-Duke/.git/objects/35\n",
      "/Users/charlesjb/Coursera-DataEngineering-Duke/.git/objects/58\n",
      "/Users/charlesjb/Coursera-DataEngineering-Duke/.git/objects/4e\n",
      "/Users/charlesjb/Coursera-DataEngineering-Duke/.git/objects/pack\n",
      "/Users/charlesjb/Coursera-DataEngineering-Duke/.git/objects/16\n",
      "/Users/charlesjb/Coursera-DataEngineering-Duke/.git/objects/7e\n",
      "/Users/charlesjb/Coursera-DataEngineering-Duke/.git/objects/19\n",
      "/Users/charlesjb/Coursera-DataEngineering-Duke/.git/objects/07\n",
      "/Users/charlesjb/Coursera-DataEngineering-Duke/.git/objects/38\n",
      "/Users/charlesjb/Coursera-DataEngineering-Duke/.git/objects/info\n",
      "/Users/charlesjb/Coursera-DataEngineering-Duke/.git/objects/15\n",
      "/Users/charlesjb/Coursera-DataEngineering-Duke/.git/objects/35/0264c619dd567fcc20e78a70c6e7e8b63ba18b\n",
      "/Users/charlesjb/Coursera-DataEngineering-Duke/.git/objects/58/8e56eac746126658a5422336c7f3b9bfb61674\n",
      "/Users/charlesjb/Coursera-DataEngineering-Duke/.git/objects/4e/1a9c76f031389f41bcf82ef7edf930c66f926c\n",
      "/Users/charlesjb/Coursera-DataEngineering-Duke/.git/objects/pack/pack-2ce62977240ac5d173fbe9470e670c7b42d89d31.idx\n",
      "/Users/charlesjb/Coursera-DataEngineering-Duke/.git/objects/pack/pack-2ce62977240ac5d173fbe9470e670c7b42d89d31.rev\n",
      "/Users/charlesjb/Coursera-DataEngineering-Duke/.git/objects/pack/pack-2ce62977240ac5d173fbe9470e670c7b42d89d31.pack\n",
      "/Users/charlesjb/Coursera-DataEngineering-Duke/.git/objects/16/f7d73c40d3fbfd7eda4e50ba28db38f56efdcb\n",
      "/Users/charlesjb/Coursera-DataEngineering-Duke/.git/objects/7e/7ac6674b1357af97e20c081bba421192c2a17e\n",
      "/Users/charlesjb/Coursera-DataEngineering-Duke/.git/objects/19/acd89318ae7a2f96854cd67510d1d7992bd7cf\n",
      "/Users/charlesjb/Coursera-DataEngineering-Duke/.git/objects/07/1de9f4b7064a0b759db5df6a31e0ac93345360\n",
      "/Users/charlesjb/Coursera-DataEngineering-Duke/.git/objects/38/9e12220bc06e83e01e999d07b2b7bf16addcc2\n",
      "/Users/charlesjb/Coursera-DataEngineering-Duke/.git/objects/15/42e4fe4a3a74aea723c2179e1a2b18cb6d4852\n",
      "/Users/charlesjb/Coursera-DataEngineering-Duke/.git/info/exclude\n",
      "/Users/charlesjb/Coursera-DataEngineering-Duke/.git/logs/refs\n",
      "/Users/charlesjb/Coursera-DataEngineering-Duke/.git/logs/HEAD\n",
      "/Users/charlesjb/Coursera-DataEngineering-Duke/.git/logs/refs/heads\n",
      "/Users/charlesjb/Coursera-DataEngineering-Duke/.git/logs/refs/remotes\n",
      "/Users/charlesjb/Coursera-DataEngineering-Duke/.git/logs/refs/heads/main\n",
      "/Users/charlesjb/Coursera-DataEngineering-Duke/.git/logs/refs/remotes/origin\n",
      "/Users/charlesjb/Coursera-DataEngineering-Duke/.git/logs/refs/remotes/origin/HEAD\n",
      "/Users/charlesjb/Coursera-DataEngineering-Duke/.git/logs/refs/remotes/origin/main\n",
      "/Users/charlesjb/Coursera-DataEngineering-Duke/.git/hooks/commit-msg.sample\n",
      "/Users/charlesjb/Coursera-DataEngineering-Duke/.git/hooks/pre-rebase.sample\n",
      "/Users/charlesjb/Coursera-DataEngineering-Duke/.git/hooks/sendemail-validate.sample\n",
      "/Users/charlesjb/Coursera-DataEngineering-Duke/.git/hooks/pre-commit.sample\n",
      "/Users/charlesjb/Coursera-DataEngineering-Duke/.git/hooks/applypatch-msg.sample\n",
      "/Users/charlesjb/Coursera-DataEngineering-Duke/.git/hooks/fsmonitor-watchman.sample\n",
      "/Users/charlesjb/Coursera-DataEngineering-Duke/.git/hooks/pre-receive.sample\n",
      "/Users/charlesjb/Coursera-DataEngineering-Duke/.git/hooks/prepare-commit-msg.sample\n",
      "/Users/charlesjb/Coursera-DataEngineering-Duke/.git/hooks/post-update.sample\n",
      "/Users/charlesjb/Coursera-DataEngineering-Duke/.git/hooks/pre-merge-commit.sample\n",
      "/Users/charlesjb/Coursera-DataEngineering-Duke/.git/hooks/pre-applypatch.sample\n",
      "/Users/charlesjb/Coursera-DataEngineering-Duke/.git/hooks/pre-push.sample\n",
      "/Users/charlesjb/Coursera-DataEngineering-Duke/.git/hooks/update.sample\n",
      "/Users/charlesjb/Coursera-DataEngineering-Duke/.git/hooks/push-to-checkout.sample\n",
      "/Users/charlesjb/Coursera-DataEngineering-Duke/.git/refs/heads\n",
      "/Users/charlesjb/Coursera-DataEngineering-Duke/.git/refs/tags\n",
      "/Users/charlesjb/Coursera-DataEngineering-Duke/.git/refs/remotes\n",
      "/Users/charlesjb/Coursera-DataEngineering-Duke/.git/refs/heads/main\n",
      "/Users/charlesjb/Coursera-DataEngineering-Duke/.git/refs/remotes/origin\n",
      "/Users/charlesjb/Coursera-DataEngineering-Duke/.git/refs/remotes/origin/HEAD\n",
      "/Users/charlesjb/Coursera-DataEngineering-Duke/.git/refs/remotes/origin/main\n",
      "/Users/charlesjb/Coursera-DataEngineering-Duke/Exercise - JSON Mapping Data/sample_data\n",
      "/Users/charlesjb/Coursera-DataEngineering-Duke/Exercise - JSON Mapping Data/answer.ipynb\n",
      "/Users/charlesjb/Coursera-DataEngineering-Duke/Exercise - JSON Mapping Data/exercise.ipynb\n",
      "/Users/charlesjb/Coursera-DataEngineering-Duke/Exercise - JSON Mapping Data/README.md\n",
      "/Users/charlesjb/Coursera-DataEngineering-Duke/Exercise - JSON Mapping Data/looping-data-structures.ipynb\n",
      "/Users/charlesjb/Coursera-DataEngineering-Duke/Exercise - JSON Mapping Data/serializing-json.ipynb\n",
      "/Users/charlesjb/Coursera-DataEngineering-Duke/Exercise - JSON Mapping Data/sample_data/wine-ratings-small.csv\n",
      "/Users/charlesjb/Coursera-DataEngineering-Duke/Exercise - JSON Mapping Data/sample_data/test.json\n",
      "/Users/charlesjb/Coursera-DataEngineering-Duke/Exercise - JSON Mapping Data/sample_data/generate_sql.py\n",
      "/Users/charlesjb/Coursera-DataEngineering-Duke/Exercise - JSON Mapping Data/sample_data/populate.sql\n",
      "/Users/charlesjb/Coursera-DataEngineering-Duke/Exercise - JSON Mapping Data/sample_data/wine-ratings.csv\n",
      "/Users/charlesjb/Coursera-DataEngineering-Duke/Exercise - JSON Mapping Data/sample_data/wine-ratings.json\n"
     ]
    }
   ],
   "source": [
    "#Sample using abspath. Abspath is mainly used when os.walk uses the current directory \".\" instead of an absolute path. \n",
    "import os\n",
    "from os.path import abspath, join\n",
    "\n",
    "for top_dir, directories, files in os.walk('.'):\n",
    "    for directory in directories:\n",
    "        print(abspath(join(top_dir, directory)))\n",
    "    for _file in files:\n",
    "        print(abspath(join(top_dir, _file)))\n",
    "\n"
   ]
  },
  {
   "cell_type": "code",
   "execution_count": 15,
   "metadata": {},
   "outputs": [
    {
     "name": "stdout",
     "output_type": "stream",
     "text": [
      "Full path: /Users/charlesjb/Coursera-DataEngineering-Duke/get-pip.py, size: 2277956\n",
      "Full path: /Users/charlesjb/Coursera-DataEngineering-Duke/lists.ipynb, size: 0\n",
      "Full path: /Users/charlesjb/Coursera-DataEngineering-Duke/data.json, size: 16\n",
      "Full path: /Users/charlesjb/Coursera-DataEngineering-Duke/sample.json, size: 54\n",
      "Full path: /Users/charlesjb/Coursera-DataEngineering-Duke/python.ipynb, size: 30910\n"
     ]
    }
   ],
   "source": [
    "# Use getsize to get the size value of the file. \n",
    "import os\n",
    "from os.path import abspath, join, getsize\n",
    "\n",
    "for top_dir, directories, files in os.walk('.'):\n",
    "    for _file in files:\n",
    "        full_path = abspath(join(top_dir, _file))\n",
    "        size = getsize(full_path)\n",
    "        print('Full path: {0}, size: {1}'.format(full_path, size))\n",
    "    break"
   ]
  },
  {
   "cell_type": "code",
   "execution_count": 27,
   "metadata": {},
   "outputs": [
    {
     "name": "stdout",
     "output_type": "stream",
     "text": [
      "Path: /Users/charlesjb/Coursera-DataEngineering-Duke/Exercise - JSON Mapping Data/sample_data/wine-ratings.csv, size: 13518834\n",
      "Path: /Users/charlesjb/Coursera-DataEngineering-Duke/.git/objects/pack/pack-2ce62977240ac5d173fbe9470e670c7b42d89d31.pack, size: 5153925\n",
      "Path: /Users/charlesjb/Coursera-DataEngineering-Duke/get-pip.py, size: 2277956\n",
      "Path: /Users/charlesjb/Coursera-DataEngineering-Duke/Exercise - JSON Mapping Data/sample_data/wine-ratings.json, size: 355744\n",
      "Path: /Users/charlesjb/Coursera-DataEngineering-Duke/Exercise - JSON Mapping Data/sample_data/wine-ratings-small.csv, size: 314894\n",
      "Path: /Users/charlesjb/Coursera-DataEngineering-Duke/Exercise - JSON Mapping Data/answer.ipynb, size: 117242\n",
      "Path: /Users/charlesjb/Coursera-DataEngineering-Duke/Exercise - JSON Mapping Data/sample_data/populate.sql, size: 103525\n",
      "Path: /Users/charlesjb/Coursera-DataEngineering-Duke/python.ipynb, size: 30910\n",
      "Path: /Users/charlesjb/Coursera-DataEngineering-Duke/Exercise - JSON Mapping Data/looping-data-structures.ipynb, size: 28060\n",
      "Path: /Users/charlesjb/Coursera-DataEngineering-Duke/.git/objects/15/42e4fe4a3a74aea723c2179e1a2b18cb6d4852, size: 16488\n"
     ]
    }
   ],
   "source": [
    "import os\n",
    "from os.path import abspath, join, getsize\n",
    "\n",
    "# Declare an empty dictionary. \n",
    "sizes = {}\n",
    "\n",
    "for top_dir, directories, files in os.walk('.'):\n",
    "    for _file in files:\n",
    "        full_path = abspath(join(top_dir, _file))\n",
    "        size = getsize(full_path)\n",
    "        # Update the sizes dict by adding the full_path as key and the size as value. \n",
    "        sizes[full_path] = size\n",
    "\n",
    "# Sort the results by size in descending order and take the top 10\n",
    "               #Variable to sort, Sort by sizes.get/value\n",
    "sorted_results = sorted(sizes, key=sizes.get, reverse=True)\n",
    "\n",
    "# Print the top 10 largest files\n",
    "for path in sorted_results[:10]:\n",
    "    print(\"Path: {0}, size: {1}\".format(path, sizes[path]))\n"
   ]
  }
 ],
 "metadata": {
  "kernelspec": {
   "display_name": "Python 3",
   "language": "python",
   "name": "python3"
  },
  "language_info": {
   "codemirror_mode": {
    "name": "ipython",
    "version": 3
   },
   "file_extension": ".py",
   "mimetype": "text/x-python",
   "name": "python",
   "nbconvert_exporter": "python",
   "pygments_lexer": "ipython3",
   "version": "3.9.6"
  }
 },
 "nbformat": 4,
 "nbformat_minor": 2
}
