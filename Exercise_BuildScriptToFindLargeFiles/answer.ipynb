{
 "cells": [
  {
   "cell_type": "markdown",
   "metadata": {},
   "source": [
    "# Get the logic right"
   ]
  },
  {
   "cell_type": "markdown",
   "metadata": {},
   "source": [
    "Start by defining some of the requirements of the script. In this case, we need to:\n",
    "- _Walk_ the filesystem looking at files, directories and sub-directories\n",
    "- Capture file information: is it a file? a directory? what size? what path?\n",
    "- Store that information in a suitable data structure\n",
    "- Report the sorted data what are the largest files by looking at the data structure"
   ]
  },
  {
   "cell_type": "code",
   "execution_count": 7,
   "metadata": {},
   "outputs": [
    {
     "name": "stdout",
     "output_type": "stream",
     "text": [
      "File found: get-pip.py\n",
      "File found: lists.ipynb\n",
      "File found: data.json\n",
      "File found: sample.json\n",
      "File found: python.ipynb\n",
      "File found: config\n",
      "File found: HEAD\n",
      "File found: description\n",
      "File found: index\n",
      "File found: packed-refs\n",
      "File found: COMMIT_EDITMSG\n",
      "File found: 0264c619dd567fcc20e78a70c6e7e8b63ba18b\n",
      "File found: 8e56eac746126658a5422336c7f3b9bfb61674\n",
      "File found: 1a9c76f031389f41bcf82ef7edf930c66f926c\n",
      "File found: pack-2ce62977240ac5d173fbe9470e670c7b42d89d31.idx\n",
      "File found: pack-2ce62977240ac5d173fbe9470e670c7b42d89d31.rev\n",
      "File found: pack-2ce62977240ac5d173fbe9470e670c7b42d89d31.pack\n",
      "File found: f7d73c40d3fbfd7eda4e50ba28db38f56efdcb\n",
      "File found: 7ac6674b1357af97e20c081bba421192c2a17e\n",
      "File found: acd89318ae7a2f96854cd67510d1d7992bd7cf\n",
      "File found: 1de9f4b7064a0b759db5df6a31e0ac93345360\n",
      "File found: 9e12220bc06e83e01e999d07b2b7bf16addcc2\n",
      "File found: 42e4fe4a3a74aea723c2179e1a2b18cb6d4852\n",
      "File found: exclude\n",
      "File found: HEAD\n",
      "File found: main\n",
      "File found: HEAD\n",
      "File found: main\n",
      "File found: commit-msg.sample\n",
      "File found: pre-rebase.sample\n",
      "File found: sendemail-validate.sample\n",
      "File found: pre-commit.sample\n",
      "File found: applypatch-msg.sample\n",
      "File found: fsmonitor-watchman.sample\n",
      "File found: pre-receive.sample\n",
      "File found: prepare-commit-msg.sample\n",
      "File found: post-update.sample\n",
      "File found: pre-merge-commit.sample\n",
      "File found: pre-applypatch.sample\n",
      "File found: pre-push.sample\n",
      "File found: update.sample\n",
      "File found: push-to-checkout.sample\n",
      "File found: main\n",
      "File found: HEAD\n",
      "File found: main\n",
      "File found: answer.ipynb\n",
      "File found: exercise.ipynb\n",
      "File found: README.md\n",
      "File found: looping-data-structures.ipynb\n",
      "File found: serializing-json.ipynb\n",
      "File found: wine-ratings-small.csv\n",
      "File found: test.json\n",
      "File found: generate_sql.py\n",
      "File found: populate.sql\n",
      "File found: wine-ratings.csv\n",
      "File found: wine-ratings.json\n",
      "File found: answer.ipynb\n"
     ]
    }
   ],
   "source": [
    "import os \n",
    "for root, directories, files in os.walk('/Users/charlesjb/Coursera-DataEngineering-Duke/'):\n",
    "    for _file in files:\n",
    "        print(f\"File found: {_file}\")"
   ]
  },
  {
   "cell_type": "code",
   "execution_count": 9,
   "metadata": {},
   "outputs": [
    {
     "name": "stdout",
     "output_type": "stream",
     "text": [
      "File found:/Users/charlesjb/Coursera-DataEngineering-Duke/get-pip.py\n",
      "File found:/Users/charlesjb/Coursera-DataEngineering-Duke/lists.ipynb\n",
      "File found:/Users/charlesjb/Coursera-DataEngineering-Duke/data.json\n",
      "File found:/Users/charlesjb/Coursera-DataEngineering-Duke/sample.json\n",
      "File found:/Users/charlesjb/Coursera-DataEngineering-Duke/python.ipynb\n",
      "File found:/Users/charlesjb/Coursera-DataEngineering-Duke/.git/config\n",
      "File found:/Users/charlesjb/Coursera-DataEngineering-Duke/.git/HEAD\n",
      "File found:/Users/charlesjb/Coursera-DataEngineering-Duke/.git/description\n",
      "File found:/Users/charlesjb/Coursera-DataEngineering-Duke/.git/index\n",
      "File found:/Users/charlesjb/Coursera-DataEngineering-Duke/.git/packed-refs\n",
      "File found:/Users/charlesjb/Coursera-DataEngineering-Duke/.git/COMMIT_EDITMSG\n",
      "File found:/Users/charlesjb/Coursera-DataEngineering-Duke/.git/objects/35/0264c619dd567fcc20e78a70c6e7e8b63ba18b\n",
      "File found:/Users/charlesjb/Coursera-DataEngineering-Duke/.git/objects/58/8e56eac746126658a5422336c7f3b9bfb61674\n",
      "File found:/Users/charlesjb/Coursera-DataEngineering-Duke/.git/objects/4e/1a9c76f031389f41bcf82ef7edf930c66f926c\n",
      "File found:/Users/charlesjb/Coursera-DataEngineering-Duke/.git/objects/pack/pack-2ce62977240ac5d173fbe9470e670c7b42d89d31.idx\n",
      "File found:/Users/charlesjb/Coursera-DataEngineering-Duke/.git/objects/pack/pack-2ce62977240ac5d173fbe9470e670c7b42d89d31.rev\n",
      "File found:/Users/charlesjb/Coursera-DataEngineering-Duke/.git/objects/pack/pack-2ce62977240ac5d173fbe9470e670c7b42d89d31.pack\n",
      "File found:/Users/charlesjb/Coursera-DataEngineering-Duke/.git/objects/16/f7d73c40d3fbfd7eda4e50ba28db38f56efdcb\n",
      "File found:/Users/charlesjb/Coursera-DataEngineering-Duke/.git/objects/7e/7ac6674b1357af97e20c081bba421192c2a17e\n",
      "File found:/Users/charlesjb/Coursera-DataEngineering-Duke/.git/objects/19/acd89318ae7a2f96854cd67510d1d7992bd7cf\n",
      "File found:/Users/charlesjb/Coursera-DataEngineering-Duke/.git/objects/07/1de9f4b7064a0b759db5df6a31e0ac93345360\n",
      "File found:/Users/charlesjb/Coursera-DataEngineering-Duke/.git/objects/38/9e12220bc06e83e01e999d07b2b7bf16addcc2\n",
      "File found:/Users/charlesjb/Coursera-DataEngineering-Duke/.git/objects/15/42e4fe4a3a74aea723c2179e1a2b18cb6d4852\n",
      "File found:/Users/charlesjb/Coursera-DataEngineering-Duke/.git/info/exclude\n",
      "File found:/Users/charlesjb/Coursera-DataEngineering-Duke/.git/logs/HEAD\n",
      "File found:/Users/charlesjb/Coursera-DataEngineering-Duke/.git/logs/refs/heads/main\n",
      "File found:/Users/charlesjb/Coursera-DataEngineering-Duke/.git/logs/refs/remotes/origin/HEAD\n",
      "File found:/Users/charlesjb/Coursera-DataEngineering-Duke/.git/logs/refs/remotes/origin/main\n",
      "File found:/Users/charlesjb/Coursera-DataEngineering-Duke/.git/hooks/commit-msg.sample\n",
      "File found:/Users/charlesjb/Coursera-DataEngineering-Duke/.git/hooks/pre-rebase.sample\n",
      "File found:/Users/charlesjb/Coursera-DataEngineering-Duke/.git/hooks/sendemail-validate.sample\n",
      "File found:/Users/charlesjb/Coursera-DataEngineering-Duke/.git/hooks/pre-commit.sample\n",
      "File found:/Users/charlesjb/Coursera-DataEngineering-Duke/.git/hooks/applypatch-msg.sample\n",
      "File found:/Users/charlesjb/Coursera-DataEngineering-Duke/.git/hooks/fsmonitor-watchman.sample\n",
      "File found:/Users/charlesjb/Coursera-DataEngineering-Duke/.git/hooks/pre-receive.sample\n",
      "File found:/Users/charlesjb/Coursera-DataEngineering-Duke/.git/hooks/prepare-commit-msg.sample\n",
      "File found:/Users/charlesjb/Coursera-DataEngineering-Duke/.git/hooks/post-update.sample\n",
      "File found:/Users/charlesjb/Coursera-DataEngineering-Duke/.git/hooks/pre-merge-commit.sample\n",
      "File found:/Users/charlesjb/Coursera-DataEngineering-Duke/.git/hooks/pre-applypatch.sample\n",
      "File found:/Users/charlesjb/Coursera-DataEngineering-Duke/.git/hooks/pre-push.sample\n",
      "File found:/Users/charlesjb/Coursera-DataEngineering-Duke/.git/hooks/update.sample\n",
      "File found:/Users/charlesjb/Coursera-DataEngineering-Duke/.git/hooks/push-to-checkout.sample\n",
      "File found:/Users/charlesjb/Coursera-DataEngineering-Duke/.git/refs/heads/main\n",
      "File found:/Users/charlesjb/Coursera-DataEngineering-Duke/.git/refs/remotes/origin/HEAD\n",
      "File found:/Users/charlesjb/Coursera-DataEngineering-Duke/.git/refs/remotes/origin/main\n",
      "File found:/Users/charlesjb/Coursera-DataEngineering-Duke/Exercise_JSONMappingData/answer.ipynb\n",
      "File found:/Users/charlesjb/Coursera-DataEngineering-Duke/Exercise_JSONMappingData/exercise.ipynb\n",
      "File found:/Users/charlesjb/Coursera-DataEngineering-Duke/Exercise_JSONMappingData/README.md\n",
      "File found:/Users/charlesjb/Coursera-DataEngineering-Duke/Exercise_JSONMappingData/looping-data-structures.ipynb\n",
      "File found:/Users/charlesjb/Coursera-DataEngineering-Duke/Exercise_JSONMappingData/serializing-json.ipynb\n",
      "File found:/Users/charlesjb/Coursera-DataEngineering-Duke/Exercise_JSONMappingData/sample_data/wine-ratings-small.csv\n",
      "File found:/Users/charlesjb/Coursera-DataEngineering-Duke/Exercise_JSONMappingData/sample_data/test.json\n",
      "File found:/Users/charlesjb/Coursera-DataEngineering-Duke/Exercise_JSONMappingData/sample_data/generate_sql.py\n",
      "File found:/Users/charlesjb/Coursera-DataEngineering-Duke/Exercise_JSONMappingData/sample_data/populate.sql\n",
      "File found:/Users/charlesjb/Coursera-DataEngineering-Duke/Exercise_JSONMappingData/sample_data/wine-ratings.csv\n",
      "File found:/Users/charlesjb/Coursera-DataEngineering-Duke/Exercise_JSONMappingData/sample_data/wine-ratings.json\n",
      "File found:/Users/charlesjb/Coursera-DataEngineering-Duke/Exercise_BuildScriptToFindLargeFiles/answer.ipynb\n"
     ]
    }
   ],
   "source": [
    "#Update the loop so that it shows the absoluite path of a file ignoring directories which we aren't going to track. \n",
    "import os \n",
    "for root, directories, files in os.walk('/Users/charlesjb/Coursera-DataEngineering-Duke/'):\n",
    "    for _file in files:\n",
    "        full_path = os.path.join(root, _file)\n",
    "        print(F\"File found:{full_path}\")"
   ]
  },
  {
   "cell_type": "code",
   "execution_count": 12,
   "metadata": {},
   "outputs": [
    {
     "name": "stdout",
     "output_type": "stream",
     "text": [
      "Size: 2277956b - File: /Users/charlesjb/Coursera-DataEngineering-Duke/get-pip.py\n",
      "Size: 0b - File: /Users/charlesjb/Coursera-DataEngineering-Duke/lists.ipynb\n",
      "Size: 16b - File: /Users/charlesjb/Coursera-DataEngineering-Duke/data.json\n",
      "Size: 54b - File: /Users/charlesjb/Coursera-DataEngineering-Duke/sample.json\n",
      "Size: 30910b - File: /Users/charlesjb/Coursera-DataEngineering-Duke/python.ipynb\n",
      "Size: 326b - File: /Users/charlesjb/Coursera-DataEngineering-Duke/.git/config\n",
      "Size: 21b - File: /Users/charlesjb/Coursera-DataEngineering-Duke/.git/HEAD\n",
      "Size: 73b - File: /Users/charlesjb/Coursera-DataEngineering-Duke/.git/description\n",
      "Size: 1852b - File: /Users/charlesjb/Coursera-DataEngineering-Duke/.git/index\n",
      "Size: 112b - File: /Users/charlesjb/Coursera-DataEngineering-Duke/.git/packed-refs\n",
      "Size: 14b - File: /Users/charlesjb/Coursera-DataEngineering-Duke/.git/COMMIT_EDITMSG\n",
      "Size: 248b - File: /Users/charlesjb/Coursera-DataEngineering-Duke/.git/objects/35/0264c619dd567fcc20e78a70c6e7e8b63ba18b\n",
      "Size: 248b - File: /Users/charlesjb/Coursera-DataEngineering-Duke/.git/objects/58/8e56eac746126658a5422336c7f3b9bfb61674\n",
      "Size: 172b - File: /Users/charlesjb/Coursera-DataEngineering-Duke/.git/objects/4e/1a9c76f031389f41bcf82ef7edf930c66f926c\n",
      "Size: 1772b - File: /Users/charlesjb/Coursera-DataEngineering-Duke/.git/objects/pack/pack-2ce62977240ac5d173fbe9470e670c7b42d89d31.idx\n",
      "Size: 152b - File: /Users/charlesjb/Coursera-DataEngineering-Duke/.git/objects/pack/pack-2ce62977240ac5d173fbe9470e670c7b42d89d31.rev\n",
      "Size: 5153925b - File: /Users/charlesjb/Coursera-DataEngineering-Duke/.git/objects/pack/pack-2ce62977240ac5d173fbe9470e670c7b42d89d31.pack\n",
      "Size: 7677b - File: /Users/charlesjb/Coursera-DataEngineering-Duke/.git/objects/16/f7d73c40d3fbfd7eda4e50ba28db38f56efdcb\n",
      "Size: 240b - File: /Users/charlesjb/Coursera-DataEngineering-Duke/.git/objects/7e/7ac6674b1357af97e20c081bba421192c2a17e\n",
      "Size: 195b - File: /Users/charlesjb/Coursera-DataEngineering-Duke/.git/objects/19/acd89318ae7a2f96854cd67510d1d7992bd7cf\n",
      "Size: 240b - File: /Users/charlesjb/Coursera-DataEngineering-Duke/.git/objects/07/1de9f4b7064a0b759db5df6a31e0ac93345360\n",
      "Size: 14707b - File: /Users/charlesjb/Coursera-DataEngineering-Duke/.git/objects/38/9e12220bc06e83e01e999d07b2b7bf16addcc2\n",
      "Size: 16488b - File: /Users/charlesjb/Coursera-DataEngineering-Duke/.git/objects/15/42e4fe4a3a74aea723c2179e1a2b18cb6d4852\n",
      "Size: 240b - File: /Users/charlesjb/Coursera-DataEngineering-Duke/.git/info/exclude\n",
      "Size: 587b - File: /Users/charlesjb/Coursera-DataEngineering-Duke/.git/logs/HEAD\n",
      "Size: 587b - File: /Users/charlesjb/Coursera-DataEngineering-Duke/.git/logs/refs/heads/main\n",
      "Size: 219b - File: /Users/charlesjb/Coursera-DataEngineering-Duke/.git/logs/refs/remotes/origin/HEAD\n",
      "Size: 322b - File: /Users/charlesjb/Coursera-DataEngineering-Duke/.git/logs/refs/remotes/origin/main\n",
      "Size: 896b - File: /Users/charlesjb/Coursera-DataEngineering-Duke/.git/hooks/commit-msg.sample\n",
      "Size: 4898b - File: /Users/charlesjb/Coursera-DataEngineering-Duke/.git/hooks/pre-rebase.sample\n",
      "Size: 2308b - File: /Users/charlesjb/Coursera-DataEngineering-Duke/.git/hooks/sendemail-validate.sample\n",
      "Size: 1649b - File: /Users/charlesjb/Coursera-DataEngineering-Duke/.git/hooks/pre-commit.sample\n",
      "Size: 478b - File: /Users/charlesjb/Coursera-DataEngineering-Duke/.git/hooks/applypatch-msg.sample\n",
      "Size: 4726b - File: /Users/charlesjb/Coursera-DataEngineering-Duke/.git/hooks/fsmonitor-watchman.sample\n",
      "Size: 544b - File: /Users/charlesjb/Coursera-DataEngineering-Duke/.git/hooks/pre-receive.sample\n",
      "Size: 1492b - File: /Users/charlesjb/Coursera-DataEngineering-Duke/.git/hooks/prepare-commit-msg.sample\n",
      "Size: 189b - File: /Users/charlesjb/Coursera-DataEngineering-Duke/.git/hooks/post-update.sample\n",
      "Size: 416b - File: /Users/charlesjb/Coursera-DataEngineering-Duke/.git/hooks/pre-merge-commit.sample\n",
      "Size: 424b - File: /Users/charlesjb/Coursera-DataEngineering-Duke/.git/hooks/pre-applypatch.sample\n",
      "Size: 1374b - File: /Users/charlesjb/Coursera-DataEngineering-Duke/.git/hooks/pre-push.sample\n",
      "Size: 3650b - File: /Users/charlesjb/Coursera-DataEngineering-Duke/.git/hooks/update.sample\n",
      "Size: 2783b - File: /Users/charlesjb/Coursera-DataEngineering-Duke/.git/hooks/push-to-checkout.sample\n",
      "Size: 41b - File: /Users/charlesjb/Coursera-DataEngineering-Duke/.git/refs/heads/main\n",
      "Size: 30b - File: /Users/charlesjb/Coursera-DataEngineering-Duke/.git/refs/remotes/origin/HEAD\n",
      "Size: 41b - File: /Users/charlesjb/Coursera-DataEngineering-Duke/.git/refs/remotes/origin/main\n",
      "Size: 117242b - File: /Users/charlesjb/Coursera-DataEngineering-Duke/Exercise_JSONMappingData/answer.ipynb\n",
      "Size: 5388b - File: /Users/charlesjb/Coursera-DataEngineering-Duke/Exercise_JSONMappingData/exercise.ipynb\n",
      "Size: 1026b - File: /Users/charlesjb/Coursera-DataEngineering-Duke/Exercise_JSONMappingData/README.md\n",
      "Size: 28060b - File: /Users/charlesjb/Coursera-DataEngineering-Duke/Exercise_JSONMappingData/looping-data-structures.ipynb\n",
      "Size: 8833b - File: /Users/charlesjb/Coursera-DataEngineering-Duke/Exercise_JSONMappingData/serializing-json.ipynb\n",
      "Size: 314894b - File: /Users/charlesjb/Coursera-DataEngineering-Duke/Exercise_JSONMappingData/sample_data/wine-ratings-small.csv\n",
      "Size: 12711b - File: /Users/charlesjb/Coursera-DataEngineering-Duke/Exercise_JSONMappingData/sample_data/test.json\n",
      "Size: 322b - File: /Users/charlesjb/Coursera-DataEngineering-Duke/Exercise_JSONMappingData/sample_data/generate_sql.py\n",
      "Size: 103525b - File: /Users/charlesjb/Coursera-DataEngineering-Duke/Exercise_JSONMappingData/sample_data/populate.sql\n",
      "Size: 13518834b - File: /Users/charlesjb/Coursera-DataEngineering-Duke/Exercise_JSONMappingData/sample_data/wine-ratings.csv\n",
      "Size: 355744b - File: /Users/charlesjb/Coursera-DataEngineering-Duke/Exercise_JSONMappingData/sample_data/wine-ratings.json\n",
      "Size: 0b - File: /Users/charlesjb/Coursera-DataEngineering-Duke/Exercise_BuildScriptToFindLargeFiles/answer.ipynb\n"
     ]
    }
   ],
   "source": [
    "# Update the loop to include the file size\n",
    "import os \n",
    "\n",
    "for root, directories, files in os.walk('/Users/charlesjb/Coursera-DataEngineering-Duke/'):\n",
    "    for _file in files:\n",
    "        full_path = os.path.join(root, _file)\n",
    "        size = os.path.getsize(full_path)\n",
    "        print(F\"Size: {size}b - File: {full_path}\")"
   ]
  },
  {
   "cell_type": "code",
   "execution_count": 18,
   "metadata": {},
   "outputs": [
    {
     "name": "stdout",
     "output_type": "stream",
     "text": [
      "{'/Users/charlesjb/Coursera-DataEngineering-Duke/get-pip.py': 2277956, '/Users/charlesjb/Coursera-DataEngineering-Duke/lists.ipynb': 0, '/Users/charlesjb/Coursera-DataEngineering-Duke/data.json': 16, '/Users/charlesjb/Coursera-DataEngineering-Duke/sample.json': 54, '/Users/charlesjb/Coursera-DataEngineering-Duke/python.ipynb': 30910, '/Users/charlesjb/Coursera-DataEngineering-Duke/.git/config': 326, '/Users/charlesjb/Coursera-DataEngineering-Duke/.git/HEAD': 21, '/Users/charlesjb/Coursera-DataEngineering-Duke/.git/description': 73, '/Users/charlesjb/Coursera-DataEngineering-Duke/.git/index': 1852, '/Users/charlesjb/Coursera-DataEngineering-Duke/.git/packed-refs': 112, '/Users/charlesjb/Coursera-DataEngineering-Duke/.git/COMMIT_EDITMSG': 14, '/Users/charlesjb/Coursera-DataEngineering-Duke/.git/objects/35/0264c619dd567fcc20e78a70c6e7e8b63ba18b': 248, '/Users/charlesjb/Coursera-DataEngineering-Duke/.git/objects/58/8e56eac746126658a5422336c7f3b9bfb61674': 248, '/Users/charlesjb/Coursera-DataEngineering-Duke/.git/objects/4e/1a9c76f031389f41bcf82ef7edf930c66f926c': 172, '/Users/charlesjb/Coursera-DataEngineering-Duke/.git/objects/pack/pack-2ce62977240ac5d173fbe9470e670c7b42d89d31.idx': 1772, '/Users/charlesjb/Coursera-DataEngineering-Duke/.git/objects/pack/pack-2ce62977240ac5d173fbe9470e670c7b42d89d31.rev': 152, '/Users/charlesjb/Coursera-DataEngineering-Duke/.git/objects/pack/pack-2ce62977240ac5d173fbe9470e670c7b42d89d31.pack': 5153925, '/Users/charlesjb/Coursera-DataEngineering-Duke/.git/objects/16/f7d73c40d3fbfd7eda4e50ba28db38f56efdcb': 7677, '/Users/charlesjb/Coursera-DataEngineering-Duke/.git/objects/7e/7ac6674b1357af97e20c081bba421192c2a17e': 240, '/Users/charlesjb/Coursera-DataEngineering-Duke/.git/objects/19/acd89318ae7a2f96854cd67510d1d7992bd7cf': 195, '/Users/charlesjb/Coursera-DataEngineering-Duke/.git/objects/07/1de9f4b7064a0b759db5df6a31e0ac93345360': 240, '/Users/charlesjb/Coursera-DataEngineering-Duke/.git/objects/38/9e12220bc06e83e01e999d07b2b7bf16addcc2': 14707, '/Users/charlesjb/Coursera-DataEngineering-Duke/.git/objects/15/42e4fe4a3a74aea723c2179e1a2b18cb6d4852': 16488, '/Users/charlesjb/Coursera-DataEngineering-Duke/.git/info/exclude': 240, '/Users/charlesjb/Coursera-DataEngineering-Duke/.git/logs/HEAD': 587, '/Users/charlesjb/Coursera-DataEngineering-Duke/.git/logs/refs/heads/main': 587, '/Users/charlesjb/Coursera-DataEngineering-Duke/.git/logs/refs/remotes/origin/HEAD': 219, '/Users/charlesjb/Coursera-DataEngineering-Duke/.git/logs/refs/remotes/origin/main': 322, '/Users/charlesjb/Coursera-DataEngineering-Duke/.git/hooks/commit-msg.sample': 896, '/Users/charlesjb/Coursera-DataEngineering-Duke/.git/hooks/pre-rebase.sample': 4898, '/Users/charlesjb/Coursera-DataEngineering-Duke/.git/hooks/sendemail-validate.sample': 2308, '/Users/charlesjb/Coursera-DataEngineering-Duke/.git/hooks/pre-commit.sample': 1649, '/Users/charlesjb/Coursera-DataEngineering-Duke/.git/hooks/applypatch-msg.sample': 478, '/Users/charlesjb/Coursera-DataEngineering-Duke/.git/hooks/fsmonitor-watchman.sample': 4726, '/Users/charlesjb/Coursera-DataEngineering-Duke/.git/hooks/pre-receive.sample': 544, '/Users/charlesjb/Coursera-DataEngineering-Duke/.git/hooks/prepare-commit-msg.sample': 1492, '/Users/charlesjb/Coursera-DataEngineering-Duke/.git/hooks/post-update.sample': 189, '/Users/charlesjb/Coursera-DataEngineering-Duke/.git/hooks/pre-merge-commit.sample': 416, '/Users/charlesjb/Coursera-DataEngineering-Duke/.git/hooks/pre-applypatch.sample': 424, '/Users/charlesjb/Coursera-DataEngineering-Duke/.git/hooks/pre-push.sample': 1374, '/Users/charlesjb/Coursera-DataEngineering-Duke/.git/hooks/update.sample': 3650, '/Users/charlesjb/Coursera-DataEngineering-Duke/.git/hooks/push-to-checkout.sample': 2783, '/Users/charlesjb/Coursera-DataEngineering-Duke/.git/refs/heads/main': 41, '/Users/charlesjb/Coursera-DataEngineering-Duke/.git/refs/remotes/origin/HEAD': 30, '/Users/charlesjb/Coursera-DataEngineering-Duke/.git/refs/remotes/origin/main': 41, '/Users/charlesjb/Coursera-DataEngineering-Duke/Exercise_JSONMappingData/answer.ipynb': 117242, '/Users/charlesjb/Coursera-DataEngineering-Duke/Exercise_JSONMappingData/exercise.ipynb': 5388, '/Users/charlesjb/Coursera-DataEngineering-Duke/Exercise_JSONMappingData/README.md': 1026, '/Users/charlesjb/Coursera-DataEngineering-Duke/Exercise_JSONMappingData/looping-data-structures.ipynb': 28060, '/Users/charlesjb/Coursera-DataEngineering-Duke/Exercise_JSONMappingData/serializing-json.ipynb': 8833, '/Users/charlesjb/Coursera-DataEngineering-Duke/Exercise_JSONMappingData/sample_data/wine-ratings-small.csv': 314894, '/Users/charlesjb/Coursera-DataEngineering-Duke/Exercise_JSONMappingData/sample_data/test.json': 12711, '/Users/charlesjb/Coursera-DataEngineering-Duke/Exercise_JSONMappingData/sample_data/generate_sql.py': 322, '/Users/charlesjb/Coursera-DataEngineering-Duke/Exercise_JSONMappingData/sample_data/populate.sql': 103525, '/Users/charlesjb/Coursera-DataEngineering-Duke/Exercise_JSONMappingData/sample_data/wine-ratings.csv': 13518834, '/Users/charlesjb/Coursera-DataEngineering-Duke/Exercise_JSONMappingData/sample_data/wine-ratings.json': 355744, '/Users/charlesjb/Coursera-DataEngineering-Duke/Exercise_BuildScriptToFindLargeFiles/answer.ipynb': 0}\n"
     ]
    }
   ],
   "source": [
    "# Persist the data into a dictionary. Since file paths are unique you can use those as dictionary keys\n",
    "file_metadata = {}\n",
    "for root, directories, files in os.walk('/Users/charlesjb/Coursera-DataEngineering-Duke/'):\n",
    "    for _file in files:\n",
    "        full_path = os.path.join(root, _file)\n",
    "        size = os.path.getsize(full_path)\n",
    "        file_metadata[full_path] = size\n",
    "print(file_metadata)"
   ]
  },
  {
   "cell_type": "markdown",
   "metadata": {},
   "source": [
    "**Exercise:** Now that the metadata is captured and stored in a suitable data structure like a dictionary, report back the results with only the four largest files. Try using other quantities to report on, like the 10 largest files instead of 4."
   ]
  },
  {
   "cell_type": "code",
   "execution_count": 19,
   "metadata": {},
   "outputs": [
    {
     "name": "stdout",
     "output_type": "stream",
     "text": [
      "Size:13518834 Path:/Users/charlesjb/Coursera-DataEngineering-Duke/Exercise_JSONMappingData/sample_data/wine-ratings.csv\n",
      "Size:5153925 Path:/Users/charlesjb/Coursera-DataEngineering-Duke/.git/objects/pack/pack-2ce62977240ac5d173fbe9470e670c7b42d89d31.pack\n",
      "Size:2277956 Path:/Users/charlesjb/Coursera-DataEngineering-Duke/get-pip.py\n",
      "Size:355744 Path:/Users/charlesjb/Coursera-DataEngineering-Duke/Exercise_JSONMappingData/sample_data/wine-ratings.json\n",
      "Size:314894 Path:/Users/charlesjb/Coursera-DataEngineering-Duke/Exercise_JSONMappingData/sample_data/wine-ratings-small.csv\n"
     ]
    }
   ],
   "source": [
    "items_shown = 0\n",
    "                                                #Key=lambda dictates what to sort by. x[1] refers to size, and x[0] refers to path. \n",
    "for path, size in sorted(file_metadata.items(), key=lambda x:x[1], reverse=True):\n",
    "    if items_shown > 4:\n",
    "        break\n",
    "    print(f\"Size:{size} Path:{path}\")\n",
    "    items_shown+=1"
   ]
  },
  {
   "cell_type": "code",
   "execution_count": null,
   "metadata": {},
   "outputs": [],
   "source": []
  }
 ],
 "metadata": {
  "kernelspec": {
   "display_name": "Python 3",
   "language": "python",
   "name": "python3"
  },
  "language_info": {
   "codemirror_mode": {
    "name": "ipython",
    "version": 3
   },
   "file_extension": ".py",
   "mimetype": "text/x-python",
   "name": "python",
   "nbconvert_exporter": "python",
   "pygments_lexer": "ipython3",
   "version": "3.9.6"
  }
 },
 "nbformat": 4,
 "nbformat_minor": 2
}
